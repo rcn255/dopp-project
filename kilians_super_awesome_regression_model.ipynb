{
 "cells": [
  {
   "cell_type": "code",
   "execution_count": 2,
   "id": "e6bdd1f2-3637-4885-a3c6-8658a7d0389a",
   "metadata": {},
   "outputs": [],
   "source": [
    "import numpy as np\n",
    "import pandas as pd\n",
    "import glob\n",
    "import os\n",
    "import matplotlib.pyplot as plt\n",
    "import seaborn as sns\n",
    "import datetime\n",
    "import pickle\n",
    "import sklearn\n",
    "\n",
    "import typing\n",
    "\n",
    "from sklearn.ensemble import GradientBoostingRegressor\n",
    "from sklearn.linear_model import Lasso, Ridge\n",
    "from sklearn.impute import SimpleImputer\n",
    "\n",
    "from sklearn.pipeline import make_pipeline\n",
    "from sklearn.model_selection import GridSearchCV, cross_val_score, train_test_split\n",
    "\n",
    "from sklearn.preprocessing import StandardScaler\n",
    "from sklearn.model_selection import GridSearchCV\n",
    "from sklearn.metrics import make_scorer, root_mean_squared_error, r2_score, mean_squared_error\n",
    "from sklearn.preprocessing import OneHotEncoder\n",
    "from sklearn.pipeline import Pipeline\n",
    "\n",
    "random_state = 123"
   ]
  },
  {
   "cell_type": "markdown",
   "id": "d088f423-fbb1-404c-bf0d-56de1f176c74",
   "metadata": {
    "jp-MarkdownHeadingCollapsed": true
   },
   "source": [
    "# Load and prepare data"
   ]
  },
  {
   "cell_type": "code",
   "execution_count": 4,
   "id": "3340be14-e2d9-4452-8ad1-6cd6ee39184a",
   "metadata": {},
   "outputs": [],
   "source": [
    "df = pd.read_csv(\"universities.csv\")\n",
    "\n",
    "df_train, df_test = train_test_split(df, test_size=0.2, random_state=random_state)\n",
    "\n",
    "target_column = \"Rank\"\n",
    "X = df_train.drop(columns=[target_column, \"Overall Score\", \"Name\", \"Year\", \"Country\"])\n",
    "y = df_train[target_column]\n",
    "\n",
    "X_train, X_valid, y_train, y_valid = train_test_split(\n",
    "    X, y, test_size=0.2, random_state=random_state\n",
    ")  \n",
    "\n",
    "X_train.isna().sum()/X_train.shape[0]\n",
    "\n",
    "X_test = df_test.drop(columns=[target_column, \"Overall Score\", \"Name\", \"Year\", \"Country\"])\n",
    "y_test = df_test[target_column] "
   ]
  },
  {
   "cell_type": "markdown",
   "id": "0104a695-3715-4be6-8429-5bfcaea7ad33",
   "metadata": {
    "jp-MarkdownHeadingCollapsed": true
   },
   "source": [
    "## Encoding Continent column"
   ]
  },
  {
   "cell_type": "code",
   "execution_count": 6,
   "id": "a36a8a97-89bc-4509-a056-3a440c4b206d",
   "metadata": {},
   "outputs": [],
   "source": [
    "enc = OneHotEncoder(drop=\"if_binary\", sparse_output=False, handle_unknown=\"ignore\")\n",
    "encoded_X_train = enc.fit_transform(X_train[[\"Continent\"]])\n",
    "col_names = enc.get_feature_names_out(input_features=[\"Continent\"])\n",
    "\n",
    "encoded_X_train = pd.DataFrame(encoded_X_train, columns=col_names, index=X_train.index)\n",
    "X_train = pd.concat([X_train.drop(columns=[\"Continent\"]), encoded_X_train], axis=1)\n",
    "\n",
    "encoded_X_valid = enc.transform(X_valid[[\"Continent\"]])\n",
    "encoded_X_valid = pd.DataFrame(encoded_X_valid, columns=col_names, index=X_valid.index)\n",
    "X_valid = pd.concat([X_valid.drop(columns=[\"Continent\"]), encoded_X_valid], axis=1)\n",
    "\n",
    "encoded_X_test = enc.transform(X_test[[\"Continent\"]])\n",
    "encoded_X_test = pd.DataFrame(encoded_X_test, columns=col_names, index=X_test.index)\n",
    "X_test = pd.concat([X_test.drop(columns=[\"Continent\"]), encoded_X_test], axis=1)"
   ]
  },
  {
   "cell_type": "markdown",
   "id": "d2e4cfa0-14b8-4f1c-9699-3a70d3c6b431",
   "metadata": {
    "jp-MarkdownHeadingCollapsed": true
   },
   "source": [
    "## Handling missing values"
   ]
  },
  {
   "cell_type": "code",
   "execution_count": 8,
   "id": "d8e337a8-389f-4967-8b40-6d58e9537c3f",
   "metadata": {},
   "outputs": [
    {
     "name": "stdout",
     "output_type": "stream",
     "text": [
      "Student Population         0.000000\n",
      "Students to Staff Ratio    0.000000\n",
      "International Students     0.000000\n",
      "Female to Male Ratio       0.049069\n",
      "Teaching                   0.000000\n",
      "Research Environment       0.000000\n",
      "Research Quality           0.000000\n",
      "Industry Impact            0.000000\n",
      "International Outlook      0.000000\n",
      "Population                 0.306898\n",
      "CO2                        0.307113\n",
      "Corruption                 0.373507\n",
      "GDP                        0.460454\n",
      "HDI                        0.441408\n",
      "GII                        0.444205\n",
      "Continent_Africa           0.000000\n",
      "Continent_America          0.000000\n",
      "Continent_Asia             0.000000\n",
      "Continent_Europe           0.000000\n",
      "Continent_Oceania          0.000000\n",
      "dtype: float64\n"
     ]
    }
   ],
   "source": [
    "print(X_train.isna().sum()/X_train.shape[0])"
   ]
  },
  {
   "cell_type": "markdown",
   "id": "ae8bb70a-fcda-4c86-b568-0f8414d9c043",
   "metadata": {},
   "source": [
    "### Option 1: Imputing missing values"
   ]
  },
  {
   "cell_type": "code",
   "execution_count": 10,
   "id": "41736cfe-11de-4015-9efb-c54f88f27f7e",
   "metadata": {},
   "outputs": [
    {
     "name": "stdout",
     "output_type": "stream",
     "text": [
      "Missing values left:\n",
      "False\n"
     ]
    }
   ],
   "source": [
    "imputer = SimpleImputer(strategy=\"mean\")\n",
    "X_train[[\"Female to Male Ratio\", \"Population\", \"CO2\", \"Corruption\", \"GDP\", \"HDI\", \"GII\"]] = imputer.fit_transform(X_train[[\"Female to Male Ratio\", \"Population\", \"CO2\", \"Corruption\", \"GDP\", \"HDI\", \"GII\"]])\n",
    "X_valid[[\"Female to Male Ratio\", \"Population\", \"CO2\", \"Corruption\", \"GDP\", \"HDI\", \"GII\"]] = imputer.transform(X_valid[[\"Female to Male Ratio\", \"Population\", \"CO2\", \"Corruption\", \"GDP\", \"HDI\", \"GII\"]])\n",
    "X_test[[\"Female to Male Ratio\", \"Population\", \"CO2\", \"Corruption\", \"GDP\", \"HDI\", \"GII\"]] = imputer.transform(X_test[[\"Female to Male Ratio\", \"Population\", \"CO2\", \"Corruption\", \"GDP\", \"HDI\", \"GII\"]])\n",
    "\n",
    "print(\"Missing values left:\")\n",
    "print(X_train.isna().all().any())"
   ]
  },
  {
   "cell_type": "markdown",
   "id": "62516417-1f28-4495-9167-b14836c51249",
   "metadata": {},
   "source": [
    "### Option 2: Removing sparse columns"
   ]
  },
  {
   "cell_type": "code",
   "execution_count": 12,
   "id": "2bf02f21-037f-4827-8f54-1612ca329728",
   "metadata": {},
   "outputs": [
    {
     "name": "stdout",
     "output_type": "stream",
     "text": [
      "Couldn't find program: 'false'\n"
     ]
    }
   ],
   "source": [
    "%%script false\n",
    "\n",
    "imputer = SimpleImputer(strategy=\"mean\")\n",
    "X_train[[\"Female to Male Ratio\"]] = imputer.fit_transform(X_train[[\"Female to Male Ratio\"]])\n",
    "X_valid[[\"Female to Male Ratio\"]] = imputer.transform(X_valid[[\"Female to Male Ratio\"]])\n",
    "X_test[[\"Female to Male Ratio\"]] = imputer.transform(X_test[[\"Female to Male Ratio\"]])\n",
    "\n",
    "def remove_sparse_cols(df, sparse_cols):\n",
    "    df = df.drop(columns=sparse_cols)\n",
    "    return df\n",
    "    \n",
    "X_train = remove_sparse_cols(X_train, [\"Population\", \"CO2\", \"Corruption\", \"GDP\", \"HDI\", \"GII\"])\n",
    "X_valid = remove_sparse_cols(X_valid, [\"Population\", \"CO2\", \"Corruption\", \"GDP\", \"HDI\", \"GII\"])\n",
    "X_test = remove_sparse_cols(X_test, [\"Population\", \"CO2\", \"Corruption\", \"GDP\", \"HDI\", \"GII\"])\n",
    "\n",
    "print(\"Missing values left:\")\n",
    "print(X_train.isna().all().any())"
   ]
  },
  {
   "cell_type": "markdown",
   "id": "514cbe1a-9795-4088-87bf-a555690b8221",
   "metadata": {},
   "source": [
    "# Train Models"
   ]
  },
  {
   "cell_type": "code",
   "execution_count": 14,
   "id": "d18714f0-76b8-46db-93ea-cd47e20bf56f",
   "metadata": {},
   "outputs": [],
   "source": [
    "def grid_search(regressor, param_grid, X_train, y_train, X_valid, y_valid, cv: int = 5):\n",
    "    scoring = {\n",
    "        \"R2\": make_scorer(r2_score),\n",
    "        \"RMSE\": make_scorer(root_mean_squared_error)\n",
    "    }\n",
    "    \n",
    "    pipeline = Pipeline([\n",
    "        (\"scaler\", StandardScaler()),\n",
    "        (\"regressor\", regressor)\n",
    "    ])\n",
    "    \n",
    "    grid_search = GridSearchCV(\n",
    "        estimator=pipeline,\n",
    "        param_grid=param_grid,\n",
    "        scoring=scoring,\n",
    "        refit=\"R2\",\n",
    "        cv=cv,\n",
    "        verbose=1\n",
    "    )\n",
    "    \n",
    "    grid_search.fit(X_train, y_train)\n",
    "    best_model = grid_search.best_estimator_\n",
    "    best_params = grid_search.best_params_\n",
    "    \n",
    "    train_r2 = r2_score(y_train, best_model.predict(X_train))\n",
    "    train_rmse = root_mean_squared_error(y_train, best_model.predict(X_train))\n",
    "    valid_r2 = r2_score(y_valid, best_model.predict(X_valid))\n",
    "    valid_rmse = root_mean_squared_error(y_valid, best_model.predict(X_valid))\n",
    "    \n",
    "    results = {\n",
    "        \"train_r2\": train_r2,\n",
    "        \"train_rmse\": train_rmse,\n",
    "        \"valid_r2\": valid_r2,\n",
    "        \"valid_rmse\": valid_rmse\n",
    "    }\n",
    "    \n",
    "    return best_model, best_params, results\n"
   ]
  },
  {
   "cell_type": "code",
   "execution_count": 15,
   "id": "c45c6f47-cfcc-41d9-ae87-3e2889a7a3fa",
   "metadata": {},
   "outputs": [],
   "source": [
    "def evaluate_model(model, X_train, X_test, y_test, model_name):\n",
    "    y_pred = model.predict(X_test)\n",
    "\n",
    "    test_r2 = r2_score(y_test, y_pred)\n",
    "    test_rmse = root_mean_squared_error(y_test, y_pred)\n",
    "    \n",
    "    residuals = y_test - y_pred\n",
    "    plt.figure(figsize=(12, 5))\n",
    "\n",
    "    plt.subplot(1, 2, 1)\n",
    "    plt.scatter(y_pred, residuals, alpha=0.6)\n",
    "    plt.axhline(0, color=\"red\", linestyle=\"--\", linewidth=1)\n",
    "    plt.title(\"Residual Plot\")\n",
    "    plt.xlabel(\"Predicted Values\")\n",
    "    plt.ylabel(\"Residuals\")\n",
    "    plt.grid()\n",
    "\n",
    "    plt.subplot(1, 2, 2)\n",
    "    plt.scatter(y_test, y_pred, alpha=0.6)\n",
    "    plt.plot([y_test.min(), y_test.max()], [y_test.min(), y_test.max()], \"r--\", lw=2)\n",
    "    plt.title(\"Parity Plot\")\n",
    "    plt.xlabel(\"Actual Values\")\n",
    "    plt.ylabel(\"Predicted Values\")\n",
    "    plt.grid()\n",
    "\n",
    "    plt.tight_layout()\n",
    "    plt.savefig(f\"results/{model_name}_eval\")\n",
    "    plt.close(\"all\")\n",
    "    \n",
    "    return test_r2, test_rmse"
   ]
  },
  {
   "cell_type": "code",
   "execution_count": 16,
   "id": "09c51b3b-41ff-4255-b27d-21d9362a7bb4",
   "metadata": {},
   "outputs": [],
   "source": [
    "def show_coefs_and_eval_pipeline(best_model_pipeline, X_train, X_test, y_test, model_name):\n",
    "    model = best_model_pipeline.named_steps[\"regressor\"]\n",
    "    coefficients = model.coef_\n",
    "    feature_importance = pd.DataFrame({\n",
    "        \"Feature\": X_train.columns,\n",
    "        \"Coefficient\": coefficients\n",
    "    })\n",
    "    \n",
    "    feature_importance[\"Abs_Coefficient\"] = feature_importance[\"Coefficient\"].abs()\n",
    "    feature_importance = feature_importance.sort_values(by=\"Abs_Coefficient\", ascending=False)\n",
    "        \n",
    "    top_features = feature_importance.head(10)\n",
    "    \n",
    "    plt.figure(figsize=(10, 6))\n",
    "    plt.barh(top_features[\"Feature\"], top_features[\"Coefficient\"], color=\"skyblue\")\n",
    "    plt.xlabel(\"Coefficient Value\")\n",
    "    plt.ylabel(\"Feature\")\n",
    "    plt.title(f\"Top 10 Features Contributing to {model_name} Regression\")\n",
    "    plt.gca().invert_yaxis()\n",
    "    plt.savefig(f\"results/{model_name}_coefs\")\n",
    "    plt.close(\"all\")\n",
    "\n",
    "    return evaluate_model(model, X_train, X_test, y_test, model_name)"
   ]
  },
  {
   "cell_type": "markdown",
   "id": "bbdc1eec-c728-43d1-9217-820e5977b108",
   "metadata": {},
   "source": [
    "## Lasso"
   ]
  },
  {
   "cell_type": "code",
   "execution_count": 18,
   "id": "7dfd2ed2-6908-45c1-865d-c3081e7bbff7",
   "metadata": {},
   "outputs": [],
   "source": [
    "def train_lasso(X_train, y_train, X_valid, y_valid):\n",
    "    lasso_params = {\n",
    "        \"regressor__alpha\": [0.1, 1, 10],\n",
    "        \"regressor__max_iter\": [1000, 5000]\n",
    "    }\n",
    "    lasso = Lasso(random_state=42)\n",
    "\n",
    "    return grid_search(\n",
    "        regressor=lasso,\n",
    "        param_grid=lasso_params,\n",
    "        X_train=X_train,\n",
    "        y_train=y_train,\n",
    "        X_valid=X_valid,\n",
    "        y_valid=y_valid\n",
    "    )"
   ]
  },
  {
   "cell_type": "markdown",
   "id": "2eef11e2-e3ba-4d17-9036-126d0c383587",
   "metadata": {},
   "source": [
    "## Ridge"
   ]
  },
  {
   "cell_type": "code",
   "execution_count": 20,
   "id": "c6248657-1898-4c9b-bf48-7cf35b8618e8",
   "metadata": {},
   "outputs": [],
   "source": [
    "def train_ridge(X_train, y_train, X_valid, y_valid):\n",
    "    ridge_params = {\n",
    "        \"regressor__alpha\": [0.1, 1, 10, 100],\n",
    "        \"regressor__max_iter\": [1000, 5000]\n",
    "    }\n",
    "    ridge = Ridge(random_state=random_state)\n",
    "    \n",
    "    return grid_search(\n",
    "        regressor=ridge,\n",
    "        param_grid=ridge_params,\n",
    "        X_train=X_train,\n",
    "        y_train=y_train,\n",
    "        X_valid=X_valid,\n",
    "        y_valid=y_valid\n",
    "    )"
   ]
  },
  {
   "cell_type": "markdown",
   "id": "3a124316-271f-4681-9cc7-4408805e6efe",
   "metadata": {},
   "source": [
    "## GradientBoostingRegressor"
   ]
  },
  {
   "cell_type": "code",
   "execution_count": 22,
   "id": "06a7e195-c060-430a-82cd-84d9e547be05",
   "metadata": {},
   "outputs": [],
   "source": [
    "def train_gbr(X_train, y_train, X_valid, y_valid):\n",
    "    gbr_params = {\n",
    "        \"regressor__n_estimators\": [50, 100, 200],\n",
    "        \"regressor__learning_rate\": [0.01, 0.1, 0.2],\n",
    "        \"regressor__max_depth\": [3, 5, 7]\n",
    "    }\n",
    "    gbr = GradientBoostingRegressor(random_state=random_state)\n",
    "    \n",
    "    return grid_search(\n",
    "        regressor=gbr,\n",
    "        param_grid=gbr_params,\n",
    "        X_train=X_train,\n",
    "        y_train=y_train,\n",
    "        X_valid=X_valid,\n",
    "        y_valid=y_valid\n",
    "    )"
   ]
  },
  {
   "cell_type": "markdown",
   "id": "1aacc099-f2cf-4267-8370-35850630e83b",
   "metadata": {},
   "source": [
    "# Experiments"
   ]
  },
  {
   "cell_type": "code",
   "execution_count": 24,
   "id": "32bd2a32-b58e-477b-b8d4-0f9ab9bff03d",
   "metadata": {},
   "outputs": [],
   "source": [
    "results_df = pd.DataFrame(columns=[\"Model\", \"Dataset\", \"R2\", \"RMSE\"])"
   ]
  },
  {
   "cell_type": "code",
   "execution_count": 25,
   "id": "36a1017a-40db-44a8-97ac-053b80827e62",
   "metadata": {},
   "outputs": [],
   "source": [
    "original_feature_cols = [\"Student Population\", \"Students to Staff Ratio\",\n",
    "       \"International Students\", \"Female to Male Ratio\", \"Teaching\",\n",
    "       \"Research Environment\", \"Research Quality\", \"Industry Impact\",\n",
    "       \"International Outlook\"]"
   ]
  },
  {
   "cell_type": "code",
   "execution_count": 26,
   "id": "c6c46c77-3ef7-4bf0-bcfc-7faf694cf1c7",
   "metadata": {},
   "outputs": [],
   "source": [
    "X_train_original = X_train[original_feature_cols]\n",
    "X_valid_original = X_valid[original_feature_cols]\n",
    "X_test_original = X_test[original_feature_cols]"
   ]
  },
  {
   "cell_type": "code",
   "execution_count": 27,
   "id": "08685feb-6088-447d-a9cb-f8c8078783e6",
   "metadata": {},
   "outputs": [],
   "source": [
    "X_train_other = X_train.drop(columns=original_feature_cols)\n",
    "X_valid_other = X_valid.drop(columns=original_feature_cols)\n",
    "X_test_other = X_test.drop(columns=original_feature_cols)"
   ]
  },
  {
   "cell_type": "code",
   "execution_count": 28,
   "id": "c51f2876-dc71-4844-9f04-ac60a197c70b",
   "metadata": {},
   "outputs": [],
   "source": [
    "datasets = {\n",
    "    \"combined\": [X_train, y_train, X_valid, y_valid, X_test, y_test],\n",
    "    \"original\": [X_train_original, y_train, X_valid_original, y_valid, X_test_original, y_test],\n",
    "    \"other\": [X_train_other, y_train, X_valid_other, y_valid, X_test_other, y_test]\n",
    "}\n",
    "\n",
    "models = [\n",
    "    (\"lasso\", train_lasso, show_coefs_and_eval_pipeline),\n",
    "    (\"ridge\", train_ridge, show_coefs_and_eval_pipeline),\n",
    "    (\"GradientBoostingRegressor\", train_gbr, evaluate_model)\n",
    "]"
   ]
  },
  {
   "cell_type": "code",
   "execution_count": 29,
   "id": "cd363c40-4407-4132-93c0-2b3fce87b316",
   "metadata": {},
   "outputs": [
    {
     "name": "stdout",
     "output_type": "stream",
     "text": [
      "Fitting 5 folds for each of 6 candidates, totalling 30 fits\n"
     ]
    },
    {
     "name": "stderr",
     "output_type": "stream",
     "text": [
      "C:\\Users\\kilia\\anaconda3\\Lib\\site-packages\\sklearn\\base.py:486: UserWarning: X has feature names, but Lasso was fitted without feature names\n",
      "  warnings.warn(\n",
      "C:\\Users\\kilia\\AppData\\Local\\Temp\\ipykernel_15724\\2994951940.py:8: FutureWarning: The behavior of DataFrame concatenation with empty or all-NA entries is deprecated. In a future version, this will no longer exclude empty or all-NA columns when determining the result dtypes. To retain the old behavior, exclude the relevant entries before the concat operation.\n",
      "  results_df = pd.concat([results_df, pd.DataFrame([new_row])], ignore_index=True)\n"
     ]
    },
    {
     "name": "stdout",
     "output_type": "stream",
     "text": [
      "Fitting 5 folds for each of 8 candidates, totalling 40 fits\n"
     ]
    },
    {
     "name": "stderr",
     "output_type": "stream",
     "text": [
      "C:\\Users\\kilia\\anaconda3\\Lib\\site-packages\\sklearn\\base.py:486: UserWarning: X has feature names, but Ridge was fitted without feature names\n",
      "  warnings.warn(\n"
     ]
    },
    {
     "name": "stdout",
     "output_type": "stream",
     "text": [
      "Fitting 5 folds for each of 27 candidates, totalling 135 fits\n",
      "Fitting 5 folds for each of 6 candidates, totalling 30 fits\n"
     ]
    },
    {
     "name": "stderr",
     "output_type": "stream",
     "text": [
      "C:\\Users\\kilia\\anaconda3\\Lib\\site-packages\\sklearn\\base.py:486: UserWarning: X has feature names, but Lasso was fitted without feature names\n",
      "  warnings.warn(\n"
     ]
    },
    {
     "name": "stdout",
     "output_type": "stream",
     "text": [
      "Fitting 5 folds for each of 8 candidates, totalling 40 fits\n"
     ]
    },
    {
     "name": "stderr",
     "output_type": "stream",
     "text": [
      "C:\\Users\\kilia\\anaconda3\\Lib\\site-packages\\sklearn\\base.py:486: UserWarning: X has feature names, but Ridge was fitted without feature names\n",
      "  warnings.warn(\n"
     ]
    },
    {
     "name": "stdout",
     "output_type": "stream",
     "text": [
      "Fitting 5 folds for each of 27 candidates, totalling 135 fits\n",
      "Fitting 5 folds for each of 6 candidates, totalling 30 fits\n"
     ]
    },
    {
     "name": "stderr",
     "output_type": "stream",
     "text": [
      "C:\\Users\\kilia\\anaconda3\\Lib\\site-packages\\sklearn\\base.py:486: UserWarning: X has feature names, but Lasso was fitted without feature names\n",
      "  warnings.warn(\n"
     ]
    },
    {
     "name": "stdout",
     "output_type": "stream",
     "text": [
      "Fitting 5 folds for each of 8 candidates, totalling 40 fits\n"
     ]
    },
    {
     "name": "stderr",
     "output_type": "stream",
     "text": [
      "C:\\Users\\kilia\\anaconda3\\Lib\\site-packages\\sklearn\\base.py:486: UserWarning: X has feature names, but Ridge was fitted without feature names\n",
      "  warnings.warn(\n"
     ]
    },
    {
     "name": "stdout",
     "output_type": "stream",
     "text": [
      "Fitting 5 folds for each of 27 candidates, totalling 135 fits\n"
     ]
    }
   ],
   "source": [
    "for dataset_name, data in datasets.items():\n",
    "        X_train, y_train, X_valid, y_valid, X_test, y_test = data\n",
    "\n",
    "        for model_name, train_function, eval_function in models:\n",
    "            best_model, best_params, results = train_function(X_train, y_train, X_valid, y_valid)\n",
    "            test_r2, test_rmse = eval_function(best_model, X_train, X_test, y_test, f\"{model_name}_{dataset_name}\")\n",
    "            new_row ={\"Model\": model_name, \"Dataset\": dataset_name, \"R2\": test_r2, \"RMSE\": test_rmse}\n",
    "            results_df = pd.concat([results_df, pd.DataFrame([new_row])], ignore_index=True)\n"
   ]
  },
  {
   "cell_type": "code",
   "execution_count": 30,
   "id": "709e4c1a-26de-4803-9f76-46dbdce0292d",
   "metadata": {},
   "outputs": [],
   "source": [
    "results_df.to_csv(\"results/scores.csv\", index=False)"
   ]
  },
  {
   "cell_type": "code",
   "execution_count": 31,
   "id": "90eb997f-32b4-44e8-a8a7-ab2cc0a2c077",
   "metadata": {},
   "outputs": [
    {
     "name": "stdout",
     "output_type": "stream",
     "text": [
      "Fitting 5 folds for each of 6 candidates, totalling 30 fits\n"
     ]
    },
    {
     "ename": "NameError",
     "evalue": "name 'sshow_coefs_and_eval_pipeline' is not defined",
     "output_type": "error",
     "traceback": [
      "\u001b[1;31m---------------------------------------------------------------------------\u001b[0m",
      "\u001b[1;31mNameError\u001b[0m                                 Traceback (most recent call last)",
      "Cell \u001b[1;32mIn[31], line 2\u001b[0m\n\u001b[0;32m      1\u001b[0m best_model_lasso, best_params_lasso, results_lasso \u001b[38;5;241m=\u001b[39m train_lasso(X_train, y_train, X_valid, y_valid)\n\u001b[1;32m----> 2\u001b[0m new_row \u001b[38;5;241m=\u001b[39m sshow_coefs_and_eval_pipeline(best_model_lasso, X_train, X_test, y_test, \u001b[38;5;124m\"\u001b[39m\u001b[38;5;124mlasso_combined\u001b[39m\u001b[38;5;124m\"\u001b[39m)\n\u001b[0;32m      3\u001b[0m results_df \u001b[38;5;241m=\u001b[39m pd\u001b[38;5;241m.\u001b[39mconcat([results_df, pd\u001b[38;5;241m.\u001b[39mDataFrame([new_row])], ignore_index\u001b[38;5;241m=\u001b[39m\u001b[38;5;28;01mTrue\u001b[39;00m)\n",
      "\u001b[1;31mNameError\u001b[0m: name 'sshow_coefs_and_eval_pipeline' is not defined"
     ]
    }
   ],
   "source": [
    "best_model_lasso, best_params_lasso, results_lasso = train_lasso(X_train, y_train, X_valid, y_valid)\n",
    "new_row = sshow_coefs_and_eval_pipeline(best_model_lasso, X_train, X_test, y_test, \"lasso_combined\")\n",
    "results_df = pd.concat([results_df, pd.DataFrame([new_row])], ignore_index=True)"
   ]
  },
  {
   "cell_type": "code",
   "execution_count": null,
   "id": "4246a95b-9d68-47f5-949f-d041d954c825",
   "metadata": {
    "scrolled": true
   },
   "outputs": [],
   "source": [
    "best_model_ridge, best_params_ridge, results_ridge = train_ridge(X_train, y_train, X_valid, y_valid)\n",
    "new_row = sshow_coefs_and_eval_pipeline(best_model_ridge, X_train, X_test, y_test, \"ridge_combined\")\n",
    "results_df = pd.concat([results_df, pd.DataFrame([new_row])], ignore_index=True)"
   ]
  },
  {
   "cell_type": "code",
   "execution_count": null,
   "id": "7edc50bd-3aad-4942-b1f6-902f0175ce22",
   "metadata": {},
   "outputs": [],
   "source": [
    "best_model_gbr, best_params_gbr, results_gbr = train_gbr(X_train, y_train, X_valid, y_valid)\n",
    "new_row = sevaluate_model(best_model_gbr, X_test, y_test, \"GradientBoostingRegressor_combined\")\n",
    "results_df = pd.concat([results_df, pd.DataFrame([new_row])], ignore_index=True)"
   ]
  }
 ],
 "metadata": {
  "kernelspec": {
   "display_name": "Python 3 (ipykernel)",
   "language": "python",
   "name": "python3"
  },
  "language_info": {
   "codemirror_mode": {
    "name": "ipython",
    "version": 3
   },
   "file_extension": ".py",
   "mimetype": "text/x-python",
   "name": "python",
   "nbconvert_exporter": "python",
   "pygments_lexer": "ipython3",
   "version": "3.12.7"
  }
 },
 "nbformat": 4,
 "nbformat_minor": 5
}
