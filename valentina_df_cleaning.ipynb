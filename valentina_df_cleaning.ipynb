{
 "cells": [
  {
   "cell_type": "code",
   "id": "initial_id",
   "metadata": {
    "collapsed": true,
    "ExecuteTime": {
     "end_time": "2025-01-26T21:31:41.435239Z",
     "start_time": "2025-01-26T21:31:41.428895Z"
    }
   },
   "source": [
    "import pandas as pd\n",
    "import country_converter as coco\n"
   ],
   "outputs": [],
   "execution_count": 21
  },
  {
   "cell_type": "code",
   "source": [
    "df = pd.read_csv(\"df_extended.csv\", index_col=0)\n",
    "df.shape"
   ],
   "metadata": {
    "collapsed": false,
    "ExecuteTime": {
     "end_time": "2025-01-26T21:31:43.274025Z",
     "start_time": "2025-01-26T21:31:43.207328Z"
    }
   },
   "id": "b8edbf6e4c67cb3d",
   "outputs": [
    {
     "data": {
      "text/plain": [
       "(14522, 20)"
      ]
     },
     "execution_count": 22,
     "metadata": {},
     "output_type": "execute_result"
    }
   ],
   "execution_count": 22
  },
  {
   "cell_type": "code",
   "outputs": [],
   "source": [],
   "metadata": {
    "collapsed": false
   },
   "id": "74a2fc32871168a2",
   "execution_count": null
  },
  {
   "cell_type": "code",
   "source": [
    "df['International Students'] = (\n",
    "    df['International Students']\n",
    "    .str.rstrip('%')\n",
    "    .replace('', '0')\n",
    "    .replace('N/A', 'N/A')\n",
    ")\n",
    "\n",
    "def convert_ratio(value):\n",
    "    try:\n",
    "        if ':' in value:\n",
    "            parts = value.split(':')\n",
    "            num1, num2 = float(parts[0]), float(parts[1])\n",
    "            return num1 / num2\n",
    "        else:\n",
    "            return float(value)\n",
    "    except:\n",
    "        return None\n",
    "\n",
    "df['Female to Male Ratio'] = df['Female to Male Ratio'].apply(convert_ratio)\n",
    "\n",
    "country_to_continent = {}\n",
    "def get_continent(country):\n",
    "    if country not in country_to_continent:\n",
    "        country_to_continent[country] = coco.CountryConverter().convert(names=country, to='continent')\n",
    "    return country_to_continent[country]\n",
    "\n",
    "df['Country'] = df['Country'].astype(str)\n",
    "\n",
    "df['Continent'] = df['Country'].apply(get_continent)\n",
    "\n",
    "df.to_csv(\"universities.csv\", index=False)\n"
   ],
   "metadata": {
    "collapsed": false,
    "ExecuteTime": {
     "end_time": "2025-01-26T21:31:52.717389Z",
     "start_time": "2025-01-26T21:31:44.808823Z"
    }
   },
   "id": "7d7b89f84c4a5fb",
   "outputs": [
    {
     "name": "stdout",
     "output_type": "stream",
     "text": [
      "          Country Continent\n",
      "0   United States   America\n",
      "1  United Kingdom    Europe\n",
      "2   United States   America\n",
      "3  United Kingdom    Europe\n",
      "4   United States   America\n"
     ]
    }
   ],
   "execution_count": 23
  },
  {
   "cell_type": "code",
   "outputs": [],
   "source": [],
   "metadata": {
    "collapsed": false,
    "ExecuteTime": {
     "end_time": "2025-01-22T15:14:31.547056900Z",
     "start_time": "2025-01-22T15:14:31.537295700Z"
    }
   },
   "id": "a98d7c218f7703da",
   "execution_count": 9
  },
  {
   "cell_type": "code",
   "outputs": [],
   "source": [],
   "metadata": {
    "collapsed": false
   },
   "id": "c4ac96c0775b6755",
   "execution_count": null
  }
 ],
 "metadata": {
  "kernelspec": {
   "display_name": "Python 3",
   "language": "python",
   "name": "python3"
  },
  "language_info": {
   "codemirror_mode": {
    "name": "ipython",
    "version": 2
   },
   "file_extension": ".py",
   "mimetype": "text/x-python",
   "name": "python",
   "nbconvert_exporter": "python",
   "pygments_lexer": "ipython2",
   "version": "2.7.6"
  }
 },
 "nbformat": 4,
 "nbformat_minor": 5
}
