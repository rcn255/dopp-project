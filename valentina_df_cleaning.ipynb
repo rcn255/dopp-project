{
 "cells": [
  {
   "cell_type": "code",
   "execution_count": 6,
   "id": "initial_id",
   "metadata": {
    "collapsed": true,
    "ExecuteTime": {
     "end_time": "2025-01-22T15:13:54.374308200Z",
     "start_time": "2025-01-22T15:13:54.366801300Z"
    }
   },
   "outputs": [],
   "source": [
    "import pandas as pd"
   ]
  },
  {
   "cell_type": "code",
   "outputs": [
    {
     "data": {
      "text/plain": "(14522, 20)"
     },
     "execution_count": 7,
     "metadata": {},
     "output_type": "execute_result"
    }
   ],
   "source": [
    "df = pd.read_csv(\"df_extended.csv\", index_col=0)\n",
    "df.shape"
   ],
   "metadata": {
    "collapsed": false,
    "ExecuteTime": {
     "end_time": "2025-01-22T15:13:54.948060Z",
     "start_time": "2025-01-22T15:13:54.899348800Z"
    }
   },
   "id": "b8edbf6e4c67cb3d",
   "execution_count": 7
  },
  {
   "cell_type": "code",
   "outputs": [],
   "source": [
    "df['International Students'] = (\n",
    "    df['International Students']\n",
    "    .str.rstrip('%')           \n",
    "    .replace('', '0')          \n",
    "    .replace('N/A', 'N/A')      \n",
    ")\n",
    "\n",
    "def convert_ratio(value):\n",
    "    try:\n",
    "        if ':' in value:\n",
    "            parts = value.split(':')  \n",
    "            num1, num2 = float(parts[0]), float(parts[1])\n",
    "            return num1 / num2\n",
    "        else:\n",
    "            return float(value)\n",
    "    except:\n",
    "        return None  \n",
    "\n",
    "df['Female to Male Ratio'] = df['Female to Male Ratio'].apply(convert_ratio)"
   ],
   "metadata": {
    "collapsed": false,
    "ExecuteTime": {
     "end_time": "2025-01-22T15:14:31.179950500Z",
     "start_time": "2025-01-22T15:14:31.158445500Z"
    }
   },
   "id": "7d7b89f84c4a5fb",
   "execution_count": 9
  },
  {
   "cell_type": "code",
   "outputs": [],
   "source": [],
   "metadata": {
    "collapsed": false,
    "ExecuteTime": {
     "end_time": "2025-01-22T15:14:31.547056900Z",
     "start_time": "2025-01-22T15:14:31.537295700Z"
    }
   },
   "id": "a98d7c218f7703da",
   "execution_count": 9
  },
  {
   "cell_type": "code",
   "outputs": [],
   "source": [],
   "metadata": {
    "collapsed": false
   },
   "id": "c4ac96c0775b6755"
  }
 ],
 "metadata": {
  "kernelspec": {
   "display_name": "Python 3",
   "language": "python",
   "name": "python3"
  },
  "language_info": {
   "codemirror_mode": {
    "name": "ipython",
    "version": 2
   },
   "file_extension": ".py",
   "mimetype": "text/x-python",
   "name": "python",
   "nbconvert_exporter": "python",
   "pygments_lexer": "ipython2",
   "version": "2.7.6"
  }
 },
 "nbformat": 4,
 "nbformat_minor": 5
}
